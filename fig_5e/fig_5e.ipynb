{
 "cells": [
  {
   "cell_type": "code",
   "execution_count": null,
   "id": "551e0a13-7e07-460a-806c-9d0ba8c41445",
   "metadata": {},
   "outputs": [],
   "source": [
    "# The figures in the paper use processed data (data folder) that was checked and output using the 10x Genomics's Loupe browser. \n",
    "# Here we reproduce the data processing process there.\n",
    "\n",
    "# 5e, Pie charts of each cluster in young (2 months old; n=4) and in old (24 months old; n=4) mice."
   ]
  },
  {
   "cell_type": "code",
   "execution_count": 1,
   "id": "64feb916-0a60-4413-b679-a59245c1686c",
   "metadata": {
    "tags": []
   },
   "outputs": [],
   "source": [
    "import scanpy as sc\n",
    "import os\n",
    "import sys\n",
    "sys.path.append(os.pardir)\n",
    "\n",
    "model_name = 'normal'\n",
    "results_analysis_file = '../data/calculated/preprocessing/{}_analysis.h5ad'.format(model_name)\n",
    "seed = 0\n",
    "\n",
    "# # if you need\n",
    "import warnings\n",
    "warnings.filterwarnings('ignore')"
   ]
  },
  {
   "cell_type": "code",
   "execution_count": null,
   "id": "767eb054-fefe-4b57-b1bb-9c3bb540e34b",
   "metadata": {},
   "outputs": [],
   "source": []
  },
  {
   "cell_type": "code",
   "execution_count": 2,
   "id": "8a156d8d-f196-4514-a96e-9459c54328fa",
   "metadata": {},
   "outputs": [],
   "source": [
    "# based on base.ipyenb\n",
    "adata_analysis = sc.read(results_analysis_file)"
   ]
  },
  {
   "cell_type": "code",
   "execution_count": 3,
   "id": "e8a51411-d18a-4cd3-a89a-216da244a8c8",
   "metadata": {},
   "outputs": [],
   "source": [
    "adata_analysis_young = adata_analysis[adata_analysis.obs['y_o'] != 'old']\n",
    "adata_analysis_old = adata_analysis[adata_analysis.obs['y_o'] != 'young']"
   ]
  },
  {
   "cell_type": "code",
   "execution_count": null,
   "id": "811461f5-459e-4349-bd39-a2dff420acdb",
   "metadata": {},
   "outputs": [],
   "source": []
  },
  {
   "cell_type": "code",
   "execution_count": 4,
   "id": "9bd2e3d3-8dff-4b66-8001-548f88fead6b",
   "metadata": {},
   "outputs": [
    {
     "data": {
      "text/plain": [
       "louvain\n",
       "1     1031\n",
       "2     4422\n",
       "3     1974\n",
       "4     1324\n",
       "5     2488\n",
       "6     2223\n",
       "7     1231\n",
       "8     2883\n",
       "9     1830\n",
       "10    1257\n",
       "11    1171\n",
       "12    1761\n",
       "13    1122\n",
       "14     838\n",
       "15     702\n",
       "16     441\n",
       "17     564\n",
       "18     357\n",
       "19     151\n",
       "dtype: int64"
      ]
     },
     "execution_count": 4,
     "metadata": {},
     "output_type": "execute_result"
    }
   ],
   "source": [
    "cluster_young = adata_analysis_young.obs.groupby('louvain')\n",
    "cluster_young.size()"
   ]
  },
  {
   "cell_type": "code",
   "execution_count": 5,
   "id": "0eef7eb2-e108-4713-ad72-8c5cb21971a9",
   "metadata": {},
   "outputs": [
    {
     "data": {
      "text/plain": [
       "louvain\n",
       "1     5807\n",
       "2     1307\n",
       "3     3585\n",
       "4     3872\n",
       "5     2422\n",
       "6     2530\n",
       "7     3113\n",
       "8     1454\n",
       "9     2006\n",
       "10    1741\n",
       "11    1819\n",
       "12     435\n",
       "13     929\n",
       "14     922\n",
       "15     999\n",
       "16     501\n",
       "17     180\n",
       "18     103\n",
       "19     292\n",
       "dtype: int64"
      ]
     },
     "execution_count": 5,
     "metadata": {},
     "output_type": "execute_result"
    }
   ],
   "source": [
    "cluster_old = adata_analysis_old.obs.groupby('louvain')\n",
    "cluster_old.size()"
   ]
  },
  {
   "cell_type": "code",
   "execution_count": 6,
   "id": "15a0b460-6433-4b05-8c59-f144e9ef4ac9",
   "metadata": {},
   "outputs": [],
   "source": [
    "# IFE-1 : 1, 2, 3, 4, 6 \n",
    "# IFE-2 : 14\n",
    "# IFE-3 : 5, 7\n",
    "# IFE-4 : 12, 13\n",
    "# IFE Differentiated : 10\n",
    "# Bulge : 8\n",
    "# Isthmus : 16\n",
    "# Sebaceous gland : 17\n",
    "# Upper HF : 9, 15\n",
    "# Melanocytes : 18\n",
    "# T cells : 11\n",
    "# Langerhans cells : 19\n",
    "\n",
    "\n",
    "# →\n",
    "# IFE cluster : 1, 2, 3, 4, 5, 6, 7, 12, 13, 14\n",
    "# Bulge : 8\n",
    "# IFE Differentiated : 10\n",
    "# Melanocytes : 18\n",
    "# Upper_HF_SG_Isthmus : 9, 15, 16, 17\n",
    "# Immune : 11, 19\n"
   ]
  },
  {
   "cell_type": "code",
   "execution_count": null,
   "id": "86d894a3-256c-49ef-9cba-3e1b6f9adb43",
   "metadata": {},
   "outputs": [],
   "source": []
  },
  {
   "cell_type": "code",
   "execution_count": 7,
   "id": "4329224a-b4d1-4dfc-8228-0d03d62c7904",
   "metadata": {},
   "outputs": [
    {
     "name": "stdout",
     "output_type": "stream",
     "text": [
      "young : IFE_cluster, Bulge, IFE_Differentiated, Melanocytes, Upper_HF_SG_Isthmus, Immune\n",
      "18414\n",
      "66.30896651062298 %\n",
      "2883\n",
      "10.38170687792582 %\n",
      "1257\n",
      "4.526467410875045 %\n",
      "357\n",
      "1.2855599567879006 %\n",
      "3537\n",
      "12.736766294562477 %\n",
      "1322\n",
      "4.760532949225784 %\n",
      "****************************************************************************************************\n",
      "old : IFE_cluster, Bulge, IFE_Differentiated, Melanocytes, Upper_HF_SG_Isthmus, Immune\n",
      "24922\n",
      "73.26336831584209 %\n",
      "1454\n",
      "4.274333421524531 %\n",
      "1741\n",
      "5.118029220683776 %\n",
      "103\n",
      "0.30278978157979836 %\n",
      "3686\n",
      "10.83575859129259 %\n",
      "2111\n",
      "6.205720669077226 %\n"
     ]
    }
   ],
   "source": [
    "IFE_cluster = [1, 2, 3, 4, 5, 6, 7, 12, 13, 14]\n",
    "Bulge = [8]\n",
    "IFE_Differentiated = [10]\n",
    "Melanocytes = [18]\n",
    "Upper_HF_SG_Isthmus = [9, 15, 16, 17]\n",
    "Immune = [11, 19]\n",
    "\n",
    "\n",
    "summary = [IFE_cluster, Bulge, IFE_Differentiated, Melanocytes, Upper_HF_SG_Isthmus, Immune]\n",
    "\n",
    "print(\"young : IFE_cluster, Bulge, IFE_Differentiated, Melanocytes, Upper_HF_SG_Isthmus, Immune\")\n",
    "count_young_sum = cluster_young.size().sum()\n",
    "for s in summary:\n",
    "    count = 0\n",
    "    for i in s:\n",
    "        count += cluster_young.size()[i-1]\n",
    "    print(count)\n",
    "    print(((count / count_young_sum)*100), \"%\")\n",
    "    \n",
    "print('*'*100)\n",
    "print(\"old : IFE_cluster, Bulge, IFE_Differentiated, Melanocytes, Upper_HF_SG_Isthmus, Immune\")\n",
    "count_old_sum = cluster_old.size().sum()\n",
    "for s in summary:\n",
    "    count = 0\n",
    "    for i in s:\n",
    "        count += cluster_old.size()[i-1]\n",
    "    print(count)\n",
    "    print(((count / count_old_sum)*100), \"%\")"
   ]
  },
  {
   "cell_type": "code",
   "execution_count": null,
   "id": "3202607a-cf16-49c4-8644-5fa9f23854ad",
   "metadata": {},
   "outputs": [],
   "source": []
  },
  {
   "cell_type": "code",
   "execution_count": null,
   "id": "3bc416cd-a1ca-4c0a-b385-1d7b727ae9fe",
   "metadata": {},
   "outputs": [],
   "source": []
  },
  {
   "cell_type": "code",
   "execution_count": null,
   "id": "90154e0a-0578-46cd-89e2-de014b9ae756",
   "metadata": {},
   "outputs": [],
   "source": []
  }
 ],
 "metadata": {
  "kernelspec": {
   "display_name": "Python 3 (ipykernel)",
   "language": "python",
   "name": "python3"
  },
  "language_info": {
   "codemirror_mode": {
    "name": "ipython",
    "version": 3
   },
   "file_extension": ".py",
   "mimetype": "text/x-python",
   "name": "python",
   "nbconvert_exporter": "python",
   "pygments_lexer": "ipython3",
   "version": "3.8.5"
  }
 },
 "nbformat": 4,
 "nbformat_minor": 5
}
